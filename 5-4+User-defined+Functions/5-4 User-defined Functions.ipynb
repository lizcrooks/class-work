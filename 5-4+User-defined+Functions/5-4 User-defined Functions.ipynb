{
 "cells": [
  {
   "cell_type": "markdown",
   "metadata": {},
   "source": [
    "# User-defined Functions\n",
    "A couple examples based on past exercises and a challenge."
   ]
  },
  {
   "cell_type": "code",
   "execution_count": 1,
   "metadata": {},
   "outputs": [
    {
     "name": "stdout",
     "output_type": "stream",
     "text": [
      "Enter the temperatures in degrees Fahrenheit? 78\n",
      "\n",
      "The temperature 78.0 degrees Fahrenheit is 25.56 degrees Celsius.\n"
     ]
    }
   ],
   "source": [
    "f = float(input(\"Enter the temperatures in degrees Fahrenheit? \"))\n",
    "c = (f-32)*5/9\n",
    "print()\n",
    "print(\"The temperature \" + str(f) + \" degrees Fahrenheit is \" + str(round((c),2)) + \" degrees Celsius.\")"
   ]
  },
  {
   "cell_type": "markdown",
   "metadata": {},
   "source": [
    "The above code is a simple Fahrenheit to Celsius conversion that we developed earlier. Run it once to see it work."
   ]
  },
  {
   "cell_type": "markdown",
   "metadata": {},
   "source": [
    "### But what if we have multiple places in our code that we need to make this conversion? \n",
    "Maybe a simple function would be useful."
   ]
  },
  {
   "cell_type": "code",
   "execution_count": 2,
   "metadata": {},
   "outputs": [
    {
     "name": "stdout",
     "output_type": "stream",
     "text": [
      "Enter the temperatures in degrees Fahrenheit? 100\n",
      "\n",
      "The temperature 100.0 degrees Fahrenheit is 37.78 degrees Celsius.\n"
     ]
    }
   ],
   "source": [
    "def ftemp(f):\n",
    "    c = (f-32)*5/9\n",
    "    return c\n",
    "\n",
    "# an example of calling our function might look like this:\n",
    "ft = float(input(\"Enter the temperatures in degrees Fahrenheit? \"))\n",
    "ct = ftemp(ft)\n",
    "print()\n",
    "print(\"The temperature \" + str(ft) + \" degrees Fahrenheit is \" + str(round((ct),2)) + \" degrees Celsius.\")"
   ]
  },
  {
   "cell_type": "markdown",
   "metadata": {},
   "source": [
    "### How about a conversion from Celsius to Fahrenheit?"
   ]
  },
  {
   "cell_type": "code",
   "execution_count": 3,
   "metadata": {},
   "outputs": [
    {
     "name": "stdout",
     "output_type": "stream",
     "text": [
      "Enter the temperatures in degrees Celsiust? 25\n",
      "\n",
      "The temperature 25.0 degrees Celsiust is 77.0 degrees Fahrenheit.\n"
     ]
    }
   ],
   "source": [
    "def ctemp(c):\n",
    "    f = (c * 9/5) + 32\n",
    "    return f\n",
    "\n",
    "# an example of calling our function might look like this:\n",
    "ct = float(input(\"Enter the temperatures in degrees Celsiust? \"))\n",
    "ft = ctemp(ct)\n",
    "print()\n",
    "print(\"The temperature \" + str(ct) + \" degrees Celsiust is \" + str(ft) + \" degrees Fahrenheit.\")"
   ]
  },
  {
   "cell_type": "markdown",
   "metadata": {},
   "source": [
    "### Could we have both in the same code?"
   ]
  },
  {
   "cell_type": "code",
   "execution_count": 4,
   "metadata": {},
   "outputs": [
    {
     "name": "stdout",
     "output_type": "stream",
     "text": [
      "Enter the temperatures in degrees Fahrenheit? 100\n",
      "\n",
      "The temperature 100.0 degrees Fahrenheit is 37.78 degrees Celsius.\n",
      "\n",
      "Enter the temperatures in degrees Celsiust? 36\n",
      "\n",
      "The temperature 36.0 degrees Celsiust is 96.8 degrees Fahrenheit.\n"
     ]
    }
   ],
   "source": [
    "def ftemp(f):\n",
    "    c = (f-32)*5/9\n",
    "    return c\n",
    "\n",
    "def ctemp(c):\n",
    "    f = (c * 9/5) + 32\n",
    "    return f\n",
    "\n",
    "# an example of calling our function might look like this:\n",
    "ft = float(input(\"Enter the temperatures in degrees Fahrenheit? \"))\n",
    "ct = ftemp(ft)\n",
    "print()\n",
    "print(\"The temperature \" + str(ft) + \" degrees Fahrenheit is \" + str(round((ct),2)) + \" degrees Celsius.\")\n",
    "print()\n",
    "\n",
    "# an example of calling our function might look like this:\n",
    "ct = float(input(\"Enter the temperatures in degrees Celsiust? \"))\n",
    "ft = ctemp(ct)\n",
    "print()\n",
    "print(\"The temperature \" + str(ct) + \" degrees Celsiust is \" + str(ft) + \" degrees Fahrenheit.\")"
   ]
  },
  {
   "cell_type": "markdown",
   "metadata": {},
   "source": [
    "**Note:** Lines 11 and 18 call the approriate functions using the input variables as arguments."
   ]
  },
  {
   "cell_type": "markdown",
   "metadata": {},
   "source": [
    "### Another approach\n",
    "Look this code over to see if it makes sense to you. What kind of error trapping and output cleanup might be nice? try it on your own or look at one approach below."
   ]
  },
  {
   "cell_type": "code",
   "execution_count": 5,
   "metadata": {},
   "outputs": [
    {
     "name": "stdout",
     "output_type": "stream",
     "text": [
      "Will you be entering a temp in Fahrenheit or Celsius? Enter f or c: f\n",
      "Enter the temperatures you want to convert: 100\n",
      "\n",
      "The temperature 100.0 degrees Fahrenheit  is 37.77777777777778 degrees Celsius.\n"
     ]
    }
   ],
   "source": [
    "def ftemp(f):\n",
    "    c = (f-32)*5/9\n",
    "    return c\n",
    "\n",
    "def ctemp(c):\n",
    "    f = (c * 9/5) + 32\n",
    "    return f\n",
    "\n",
    "# an example of calling our function might look like this:\n",
    "type = input(\"Will you be entering a temp in Fahrenheit or Celsius? Enter f or c: \")\n",
    "temp = float(input(\"Enter the temperatures you want to convert: \"))\n",
    "if type == \"f\":\n",
    "    temp2 = ftemp(temp)\n",
    "    tempfrom = \"Fahrenheit \"\n",
    "    tempto = \"Celsius\"\n",
    "else:\n",
    "    temp2 = ctemp(temp)\n",
    "    tempfrom = \"Celsius \"\n",
    "    tempto = \"Fahrenheit\"\n",
    "    \n",
    "print()\n",
    "print(\"The temperature \" + str(temp) + \" degrees \" + tempfrom + \" is \" + str(temp2) + \" degrees \" + tempto + \".\")"
   ]
  },
  {
   "cell_type": "markdown",
   "metadata": {},
   "source": [
    "**Note:** The if statement (line 12) decides which function to call. Unfortunately, if we answer the *type* prompt with anything but a lowercase f, it would run a Celsius to Fahrenheit calculation.\n",
    "\n",
    "Lines 14/15 and 18/19 create string variable we use to build our output in line 22."
   ]
  },
  {
   "cell_type": "markdown",
   "metadata": {},
   "source": [
    "### Cleaned up a bit"
   ]
  },
  {
   "cell_type": "code",
   "execution_count": null,
   "metadata": {},
   "outputs": [],
   "source": [
    "def ftemp(f):\n",
    "    c = (f-32)*5/9\n",
    "    return c\n",
    "\n",
    "def ctemp(c):\n",
    "    f = (c * 9/5) + 32\n",
    "    return f\n",
    "\n",
    "# an example of calling our function might look like this:\n",
    "while True:\n",
    "    type = input(\"Will you be entering a temp in Fahrenheit or Celsius? Enter f or c: \")\n",
    "    type = type.lower()\n",
    "    if type in [\"f\", \"c\"]:\n",
    "        break\n",
    "    else:\n",
    "        print(\"Invalid input. Please enter f or c:\")\n",
    "        continue\n",
    "        \n",
    "temp = float(input(\"Enter the temperatures you want to convert: \"))\n",
    "if type == \"f\":\n",
    "    temp2 = ftemp(temp)\n",
    "    tempfrom = \"Fahrenheit \"\n",
    "    tempto = \"Celsius\"\n",
    "else:\n",
    "    temp2 = ctemp(temp)\n",
    "    tempfrom = \"Celsius \"\n",
    "    tempto = \"Fahrenheit\"\n",
    "    \n",
    "print()\n",
    "print(\"The temperature \" + str(round(temp,2)) + \" degrees \" + tempfrom + \" is \" + str(round(temp2,2)) + \" degrees \" + tempto + \".\")"
   ]
  },
  {
   "cell_type": "markdown",
   "metadata": {
    "collapsed": true
   },
   "source": [
    "**Note: ** The while statement (lines 10-17) make sure that an f or c is entered. Line 12 converts the input to lowercase since lines 13 and 20 depend on it.\n",
    "\n",
    "The round() functions in row 30 ensure that our results are limited to 2 or less decimals."
   ]
  },
  {
   "cell_type": "markdown",
   "metadata": {
    "collapsed": true
   },
   "source": [
    "### Is there a way to use just one function\n",
    "Feel free to try it on your own or look at one solution below."
   ]
  },
  {
   "cell_type": "code",
   "execution_count": null,
   "metadata": {},
   "outputs": [],
   "source": [
    "def tempconvert(type,temp):\n",
    "    if type == \"f\":\n",
    "        result = (temp-32)*5/9\n",
    "    else:\n",
    "        result = (temp * 9/5) + 32\n",
    "    return result\n",
    "\n",
    "# an example of calling our function might look like this:\n",
    "while True:\n",
    "    type = input(\"Will you be entering a temp in Fahrenheit or Celsius? Enter f or c: \")\n",
    "    type = type.lower()\n",
    "    if type in [\"f\", \"c\"]:\n",
    "        break\n",
    "    else:\n",
    "        print(\"Invalid input. Please enter f or c:\")\n",
    "        continue\n",
    "        \n",
    "temp = float(input(\"Enter the temperatures you want to convert: \"))\n",
    "temp2 = tempconvert(type,temp)\n",
    "if type == \"f\":\n",
    "    tempfrom = \"Fahrenheit \"\n",
    "    tempto = \"Celsius\"\n",
    "else:\n",
    "    tempfrom = \"Celsius \"\n",
    "    tempto = \"Fahrenheit\"\n",
    "    \n",
    "print()\n",
    "print(\"The temperature \" + str(round(temp,2)) + \" degrees \" + tempfrom + \" is \" + str(round(temp2,2)) + \" degrees \" + tempto + \".\")"
   ]
  },
  {
   "cell_type": "markdown",
   "metadata": {},
   "source": [
    "**Note: **Our function now requires two parameters and our function call (line 19) uses both of our input variable as arguments. They happen to have the same names as the parameters but that is not required. "
   ]
  },
  {
   "cell_type": "code",
   "execution_count": null,
   "metadata": {},
   "outputs": [],
   "source": [
    "def tempconvert(type,temp):\n",
    "    if type == \"f\":\n",
    "        result = [(temp-32)*5/9, \"Fahrenheit\", \"Celsius\"]\n",
    "    else:\n",
    "        result = [(temp * 9/5) + 32, \"Celsius\", \"Fahrenheit\"]\n",
    "    return result\n",
    "\n",
    "# an example of calling our function might look like this:\n",
    "while True:\n",
    "    type = input(\"Will you be entering a temp in Fahrenheit or Celsius? Enter f or c: \")\n",
    "    type = type.lower()\n",
    "    if type in [\"f\", \"c\"]:\n",
    "        break\n",
    "    else:\n",
    "        print(\"Invalid input. Please enter f or c:\")\n",
    "        continue\n",
    "        \n",
    "temp = float(input(\"Enter the temperatures you want to convert: \"))\n",
    "temp2 = tempconvert(type,temp)\n",
    "    \n",
    "print()\n",
    "print(\"The temperature \" + str(round(temp,2)) + \" degrees \" + temp2[1] + \" is \" + str(round(temp2[0],2)) + \" degrees \" + temp2[2] + \".\")"
   ]
  },
  {
   "cell_type": "markdown",
   "metadata": {},
   "source": [
    "**Note:** By making the return value a list, we moved all of the type variables to the function. If a programmer only wanted the temperature they would use just temp2[0]."
   ]
  },
  {
   "cell_type": "markdown",
   "metadata": {},
   "source": [
    "### How about putting the function in a seperate module?\n",
    "In this example I put the entire function in a Python file named temps.py\n",
    "Line 1 opens the temps.py file and imports the function. These are the only changes made to the last exercise. The function would now be available to any code in that same directory."
   ]
  },
  {
   "cell_type": "code",
   "execution_count": 26,
   "metadata": {},
   "outputs": [
    {
     "name": "stdout",
     "output_type": "stream",
     "text": [
      "Will you be entering a temp in Fahrenheit or Celsius? Enter f or c: g\n",
      "Invalid input. Please enter f or c:\n",
      "Will you be entering a temp in Fahrenheit or Celsius? Enter f or c: f\n",
      "Enter the temperatures you want to convert: 87\n",
      "\n",
      "The temperature 87.0 degrees Fahrenheit is 30.56 degrees Celsius.\n"
     ]
    }
   ],
   "source": [
    "from temps import tempconvert\n",
    "\n",
    "# an example of calling our function might look like this:\n",
    "while True:\n",
    "    type = input(\"Will you be entering a temp in Fahrenheit or Celsius? Enter f or c: \")\n",
    "    type = type.lower()\n",
    "    if type in [\"f\", \"c\"]:\n",
    "        break\n",
    "    else:\n",
    "        print(\"Invalid input. Please enter f or c:\")\n",
    "        continue\n",
    "        \n",
    "temp = float(input(\"Enter the temperatures you want to convert: \"))\n",
    "temp2 = tempconvert(type,temp)\n",
    "    \n",
    "print()\n",
    "print(\"The temperature \" + str(round(temp,2)) + \" degrees \" + temp2[1] + \" is \" + str(round(temp2[0],2)) + \" degrees \" + temp2[2] + \".\")"
   ]
  },
  {
   "cell_type": "markdown",
   "metadata": {},
   "source": [
    "## Challenges - try at least one of these\n",
    "1. How might you convert your grade calculator for 5-2 into a user-defined function?\n",
    "2. How might you create a user-defined function to calculate gross or total pay based on hours and pay rate?\n",
    "3. How might you modify the last function to factor in overtime at time and a half?"
   ]
  }
 ],
 "metadata": {
  "kernelspec": {
   "display_name": "Python 3",
   "language": "python",
   "name": "python3"
  },
  "language_info": {
   "codemirror_mode": {
    "name": "ipython",
    "version": 3
   },
   "file_extension": ".py",
   "mimetype": "text/x-python",
   "name": "python",
   "nbconvert_exporter": "python",
   "pygments_lexer": "ipython3",
   "version": "3.7.0"
  }
 },
 "nbformat": 4,
 "nbformat_minor": 2
}
