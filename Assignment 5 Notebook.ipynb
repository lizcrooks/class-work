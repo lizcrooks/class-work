{
 "cells": [
  {
   "cell_type": "code",
   "execution_count": 1,
   "metadata": {},
   "outputs": [
    {
     "name": "stdout",
     "output_type": "stream",
     "text": [
      "1\n",
      "2\n",
      "3\n",
      "4\n",
      "5\n"
     ]
    }
   ],
   "source": [
    "current_number = 1\n",
    "while current_number <= 5:\n",
    "    print(current_number)\n",
    "    current_number += 1"
   ]
  },
  {
   "cell_type": "code",
   "execution_count": 1,
   "metadata": {},
   "outputs": [
    {
     "name": "stdout",
     "output_type": "stream",
     "text": [
      "\n",
      "Tell me something, and I will repeat it back to you: \n",
      "Enter 'quit' to end the program.Hello there\n",
      "Hello there\n",
      "\n",
      "Tell me something, and I will repeat it back to you: \n",
      "Enter 'quit' to end the program.Well Howdy\n",
      "Well Howdy\n",
      "\n",
      "Tell me something, and I will repeat it back to you: \n",
      "Enter 'quit' to end the program.quit\n"
     ]
    }
   ],
   "source": [
    "prompt = \"\\nTell me something, and I will repeat it back to you: \"\n",
    "prompt += \"\\nEnter 'quit' to end the program. \"\n",
    "message = \"\"\n",
    "while message != 'quit':\n",
    "    message = input(prompt)\n",
    "    \n",
    "    if message != 'quit':\n",
    "        print(message)"
   ]
  },
  {
   "cell_type": "code",
   "execution_count": 2,
   "metadata": {},
   "outputs": [
    {
     "name": "stdout",
     "output_type": "stream",
     "text": [
      "\n",
      "Tell me something, and I will repeat it back to you: \n",
      "Enter 'quit' to end the program. Daylight savings time is rough.\n",
      "Daylight savings time is rough.\n",
      "\n",
      "Tell me something, and I will repeat it back to you: \n",
      "Enter 'quit' to end the program. Not my favorite.\n",
      "Not my favorite.\n",
      "\n",
      "Tell me something, and I will repeat it back to you: \n",
      "Enter 'quit' to end the program. quit\n"
     ]
    }
   ],
   "source": [
    "prompt = \"\\nTell me something, and I will repeat it back to you: \"\n",
    "prompt += \"\\nEnter 'quit' to end the program. \"\n",
    "\n",
    "active = True\n",
    "while active:\n",
    "        message = input(prompt)\n",
    "        \n",
    "        if message == 'quit':\n",
    "            active = False\n",
    "        else:\n",
    "            print(message)"
   ]
  },
  {
   "cell_type": "code",
   "execution_count": 4,
   "metadata": {},
   "outputs": [
    {
     "name": "stdout",
     "output_type": "stream",
     "text": [
      "\n",
      "Please enter the name of a city you have visited:\n",
      "(Enter 'quit' when you are finished.) LA\n",
      "I'd love to go to La!\n",
      "\n",
      "Please enter the name of a city you have visited:\n",
      "(Enter 'quit' when you are finished.) Charlotte\n",
      "I'd love to go to Charlotte!\n",
      "\n",
      "Please enter the name of a city you have visited:\n",
      "(Enter 'quit' when you are finished.) quit\n"
     ]
    }
   ],
   "source": [
    "prompt = \"\\nPlease enter the name of a city you have visited:\"\n",
    "prompt += \"\\n(Enter 'quit' when you are finished.) \"\n",
    "\n",
    "while True:\n",
    "    city = input(prompt)\n",
    "    \n",
    "    if city == 'quit':\n",
    "        break\n",
    "    else:\n",
    "        print(\"I'd love to go to \" + city.title() + \"!\")"
   ]
  },
  {
   "cell_type": "code",
   "execution_count": 5,
   "metadata": {},
   "outputs": [
    {
     "name": "stdout",
     "output_type": "stream",
     "text": [
      "1\n",
      "3\n",
      "5\n",
      "7\n",
      "9\n"
     ]
    }
   ],
   "source": [
    "current_number = 0\n",
    "while current_number < 10:\n",
    "    current_number += 1\n",
    "    if current_number % 2 == 0:\n",
    "        continue\n",
    "        \n",
    "    print(current_number)"
   ]
  },
  {
   "cell_type": "code",
   "execution_count": 1,
   "metadata": {},
   "outputs": [
    {
     "name": "stdout",
     "output_type": "stream",
     "text": [
      "\n",
      "Tell me a topping you would like on your pizza:\n",
      "Enter 'quit' when you are finished. Mushrooms\n",
      "I'll add that topping to your pizza.\n",
      "\n",
      "Tell me a topping you would like on your pizza:\n",
      "Enter 'quit' when you are finished. black olives\n",
      "I'll add that topping to your pizza.\n",
      "\n",
      "Tell me a topping you would like on your pizza:\n",
      "Enter 'quit' when you are finished. pepperoni\n",
      "I'll add that topping to your pizza.\n",
      "\n",
      "Tell me a topping you would like on your pizza:\n",
      "Enter 'quit' when you are finished. quit\n"
     ]
    }
   ],
   "source": [
    "prompt = \"\\nTell me a topping you would like on your pizza:\"\n",
    "prompt += \"\\nEnter 'quit' when you are finished. \"\n",
    "\n",
    "while True:\n",
    "    topping = input(prompt)\n",
    "    \n",
    "    if topping == 'quit':\n",
    "        break\n",
    "    else:\n",
    "        print(\"I'll add that topping to your pizza.\")"
   ]
  },
  {
   "cell_type": "code",
   "execution_count": 3,
   "metadata": {},
   "outputs": [
    {
     "name": "stdout",
     "output_type": "stream",
     "text": [
      "\n",
      "How old are you? \n",
      "Enter 'quit' to end the ticket purchase.2\n",
      "Your ticket is free!\n",
      "\n",
      "How old are you? \n",
      "Enter 'quit' to end the ticket purchase.9\n",
      "Your ticket will be $10.\n",
      "\n",
      "How old are you? \n",
      "Enter 'quit' to end the ticket purchase.16\n",
      "Your ticket will be $15.\n",
      "\n",
      "How old are you? \n",
      "Enter 'quit' to end the ticket purchase.quir\n"
     ]
    },
    {
     "ename": "ValueError",
     "evalue": "invalid literal for int() with base 10: 'quir'",
     "output_type": "error",
     "traceback": [
      "\u001b[0;31m---------------------------------------------------------------------------\u001b[0m",
      "\u001b[0;31mValueError\u001b[0m                                Traceback (most recent call last)",
      "\u001b[0;32m<ipython-input-3-c9802d3a2ba8>\u001b[0m in \u001b[0;36m<module>\u001b[0;34m()\u001b[0m\n\u001b[1;32m      7\u001b[0m         \u001b[0;32mbreak\u001b[0m\u001b[0;34m\u001b[0m\u001b[0m\n\u001b[1;32m      8\u001b[0m \u001b[0;34m\u001b[0m\u001b[0m\n\u001b[0;32m----> 9\u001b[0;31m     \u001b[0mage\u001b[0m \u001b[0;34m=\u001b[0m \u001b[0mint\u001b[0m\u001b[0;34m(\u001b[0m\u001b[0mage\u001b[0m\u001b[0;34m)\u001b[0m\u001b[0;34m\u001b[0m\u001b[0m\n\u001b[0m\u001b[1;32m     10\u001b[0m     \u001b[0;32mif\u001b[0m \u001b[0mage\u001b[0m \u001b[0;34m<\u001b[0m \u001b[0;36m3\u001b[0m\u001b[0;34m:\u001b[0m\u001b[0;34m\u001b[0m\u001b[0m\n\u001b[1;32m     11\u001b[0m         \u001b[0mprint\u001b[0m\u001b[0;34m(\u001b[0m\u001b[0;34m\"Your ticket is free!\"\u001b[0m\u001b[0;34m)\u001b[0m\u001b[0;34m\u001b[0m\u001b[0m\n",
      "\u001b[0;31mValueError\u001b[0m: invalid literal for int() with base 10: 'quir'"
     ]
    }
   ],
   "source": [
    "prompt = \"\\nHow old are you? \"\n",
    "prompt += \"\\nEnter 'quit' to end the ticket purchase. \"\n",
    "\n",
    "while True:\n",
    "    age = input(prompt)\n",
    "    if age == 'quit':\n",
    "        break\n",
    "            \n",
    "    age = int(age)\n",
    "    if age < 3:\n",
    "        print(\"Your ticket is free!\")\n",
    "    elif age > 3 and age < 12:\n",
    "        print(\"Your ticket will be $10.\")\n",
    "    else:\n",
    "        print(\"Your ticket will be $15.\")\n",
    "        \n",
    "        "
   ]
  },
  {
   "cell_type": "code",
   "execution_count": 5,
   "metadata": {},
   "outputs": [
    {
     "name": "stdout",
     "output_type": "stream",
     "text": [
      "Verifying user: Candace\n",
      "Verifying user: Brian\n",
      "Verifying user: Alice\n",
      "\n",
      "The following users have been confirmed:\n",
      "Candace\n",
      "Brian\n",
      "Alice\n"
     ]
    }
   ],
   "source": [
    "#Start with users that need to be verified,\n",
    "# and an empty list to hold confirmed users.\n",
    "unconfirmed_users = ['alice', 'brian', 'candace']\n",
    "confirmed_users = []\n",
    "\n",
    "#Verify each user until there are no more unconfirmed users.\n",
    "# Move each verified user into the list of confirmed users.\n",
    "while unconfirmed_users:\n",
    "    current_user = unconfirmed_users.pop()\n",
    "    \n",
    "    print(\"Verifying user: \" + current_user.title())\n",
    "    confirmed_users.append(current_user)\n",
    "# Display all confirmed users.\n",
    "print(\"\\nThe following users have been confirmed:\")\n",
    "for confirmed_user in confirmed_users:\n",
    "    print(confirmed_user.title())"
   ]
  },
  {
   "cell_type": "code",
   "execution_count": 6,
   "metadata": {},
   "outputs": [
    {
     "name": "stdout",
     "output_type": "stream",
     "text": [
      "['dog', 'cat', 'dog', 'goldfish', 'cat', 'rabbit', 'cat']\n",
      "['dog', 'dog', 'goldfish', 'rabbit']\n"
     ]
    }
   ],
   "source": [
    "pets = ['dog', 'cat', 'dog', 'goldfish', 'cat', 'rabbit', 'cat']\n",
    "print(pets)\n",
    "\n",
    "while 'cat' in pets:\n",
    "    pets.remove('cat')\n",
    "    \n",
    "print(pets)"
   ]
  },
  {
   "cell_type": "code",
   "execution_count": 7,
   "metadata": {},
   "outputs": [
    {
     "name": "stdout",
     "output_type": "stream",
     "text": [
      "\n",
      "What is your name? Elizabeth\n",
      "Which mountain would you like to climb someday? Mt. Hood\n",
      "Would you like to let another person respond? (yes/no) yes\n",
      "\n",
      "What is your name? Elliott\n",
      "Which mountain would you like to climb someday? Denali\n",
      "Would you like to let another person respond? (yes/no) no\n",
      "\n",
      "---Poll Results ---\n",
      "Elizabeth would like to climb Mt. Hood.\n",
      "Elliott would like to climb Denali.\n"
     ]
    }
   ],
   "source": [
    "responses = {}\n",
    "\n",
    "# Set a flag to indicate that polling is active.\n",
    "polling_active = True\n",
    "\n",
    "while polling_active:\n",
    "    # Prompt for the person's name and response.\n",
    "    name = input(\"\\nWhat is your name? \")\n",
    "    response = input(\"Which mountain would you like to climb someday? \")\n",
    "    \n",
    "    # Store the response in the dictionary.\n",
    "    responses[name] = response\n",
    "    \n",
    "    # Find out if anyone else is going to take the poll.\n",
    "    repeat = input(\"Would you like to let another person respond? (yes/no) \")\n",
    "    if repeat == 'no':\n",
    "        polling_active = False\n",
    "        \n",
    "# Polling is complete. Show the results.\n",
    "print(\"\\n---Poll Results ---\")\n",
    "for name, response in responses.items():\n",
    "    print(name + \" would like to climb \" + response + \".\")"
   ]
  },
  {
   "cell_type": "code",
   "execution_count": 10,
   "metadata": {},
   "outputs": [
    {
     "name": "stdout",
     "output_type": "stream",
     "text": [
      "The deli has run out of pastrami.\n",
      "I made your Muffuletta.\n",
      "I made your French Dip.\n",
      "I made your Lobster Roll.\n",
      "I made your Cheesesteak.\n",
      "I made your Blt.\n",
      "\n",
      "The following sandwiches have been made:\n",
      "Muffuletta\n",
      "French Dip\n",
      "Lobster Roll\n",
      "Cheesesteak\n",
      "Blt\n"
     ]
    }
   ],
   "source": [
    "sandwich_orders = ['pastrami', 'BLT', 'cheesesteak', 'pastrami', 'lobster roll', 'french dip', 'muffuletta', 'pastrami']\n",
    "finished_sandwiches = []\n",
    "print(\"The deli has run out of pastrami.\")\n",
    "\n",
    "while 'pastrami' in sandwich_orders:\n",
    "    sandwich_orders.remove('pastrami')\n",
    "\n",
    "while sandwich_orders:\n",
    "    current_sandwich = sandwich_orders.pop()\n",
    "        \n",
    "    print(\"I made your \" + current_sandwich.title() + \".\")\n",
    "    finished_sandwiches.append(current_sandwich)\n",
    "print(\"\\nThe following sandwiches have been made:\")\n",
    "for current_sandwich in finished_sandwiches:\n",
    "    print(current_sandwich.title())\n",
    "        "
   ]
  },
  {
   "cell_type": "code",
   "execution_count": 2,
   "metadata": {},
   "outputs": [
    {
     "name": "stdout",
     "output_type": "stream",
     "text": [
      "\n",
      "What is your name? Liz\n",
      "\n",
      "Where in the world would you go for your dream vaction? Hawaii\n",
      "Would you like to let another person respond? (yes or no) yes\n",
      "\n",
      "What is your name? James\n",
      "\n",
      "Where in the world would you go for your dream vaction? Scotland\n",
      "Would you like to let another person respond? (yes or no) no\n",
      "\n",
      "Survey Results for Dream Vacations: \n",
      "Liz would like to go on vacation to Hawaii.\n",
      "James would like to go on vacation to Scotland.\n"
     ]
    }
   ],
   "source": [
    "vacations = {}\n",
    "\n",
    "responses_active = True\n",
    "\n",
    "while responses_active:\n",
    "    name = input(\"\\nWhat is your name? \")\n",
    "    destination = input(\"\\nWhere in the world would you go for your dream vaction? \")\n",
    "    vacations[name] = destination\n",
    "    \n",
    "    repeat = input(\"Would you like to let another person respond? (yes or no) \")\n",
    "    if repeat == 'no':\n",
    "        responses_active = False\n",
    "        \n",
    "print(\"\\nSurvey Results for Dream Vacations: \")\n",
    "for name, destination in vacations.items():\n",
    "    print(name + \" would like to go on vacation to \" + destination + \".\")"
   ]
  },
  {
   "cell_type": "code",
   "execution_count": 4,
   "metadata": {},
   "outputs": [
    {
     "name": "stdout",
     "output_type": "stream",
     "text": [
      "Hello, Elizabeth!\n"
     ]
    }
   ],
   "source": [
    "def greet_user(username):\n",
    "    \"\"\"Display a simple greeting.\"\"\"\n",
    "    print(\"Hello, \" + username.title() + \"!\")\n",
    "    \n",
    "greet_user('elizabeth')"
   ]
  },
  {
   "cell_type": "code",
   "execution_count": 5,
   "metadata": {},
   "outputs": [
    {
     "name": "stdout",
     "output_type": "stream",
     "text": [
      "I am learning about functions in this chapter.\n"
     ]
    }
   ],
   "source": [
    "def display_message():\n",
    "    \"\"\"Display a message about what I've learned from chapter 8\"\"\"\n",
    "    print(\"I am learning about functions in this chapter.\")\n",
    "    \n",
    "display_message()\n"
   ]
  },
  {
   "cell_type": "code",
   "execution_count": 2,
   "metadata": {},
   "outputs": [
    {
     "name": "stdout",
     "output_type": "stream",
     "text": [
      "One of my favorite books is The Thirteen Clocks!\n"
     ]
    }
   ],
   "source": [
    "def favorite_book(title):\n",
    "    \"\"\"Display a message about my favorite book\"\"\"\n",
    "    print(\"One of my favorite books is \" + title + \"!\")\n",
    "    \n",
    "favorite_book('The Thirteen Clocks')\n"
   ]
  },
  {
   "cell_type": "code",
   "execution_count": 9,
   "metadata": {},
   "outputs": [
    {
     "name": "stdout",
     "output_type": "stream",
     "text": [
      "\n",
      "I have a dog.\n",
      "My dog's name is Willie.\n"
     ]
    }
   ],
   "source": [
    "def describe_pet(pet_name, animal_type ='dog'):\n",
    "    \"\"\"Display information about a pet.\"\"\"\n",
    "    print(\"\\nI have a \" + animal_type + \".\")\n",
    "    print(\"My \" + animal_type + \"'s name is \" + pet_name.title() + \".\")\n",
    "    \n",
    "describe_pet(pet_name='willie')"
   ]
  },
  {
   "cell_type": "code",
   "execution_count": 10,
   "metadata": {},
   "outputs": [
    {
     "name": "stdout",
     "output_type": "stream",
     "text": [
      "\n",
      "The shirt I am ordering is a medium.\n",
      "The shirt will say Seattle Storm 2018 Champs.\n"
     ]
    }
   ],
   "source": [
    "def make_shirt(shirt_size, shirt_text):\n",
    "    \"\"\"Display information about a t-shirt.\"\"\"\n",
    "    print(\"\\nThe shirt I am ordering is a \" + shirt_size + \".\")\n",
    "    print(\"The shirt will say \" + shirt_text + \".\")\n",
    "    \n",
    "make_shirt('medium', 'Seattle Storm 2018 Champs')"
   ]
  },
  {
   "cell_type": "code",
   "execution_count": 15,
   "metadata": {},
   "outputs": [
    {
     "name": "stdout",
     "output_type": "stream",
     "text": [
      "\n",
      "The shirt I am ordering is a medium.\n",
      "The shirt will say Men have made a lot of bad art.\n"
     ]
    }
   ],
   "source": [
    "def make_shirt(shirt_text='Men have made a lot of bad art', shirt_size='medium'):\n",
    "    \"\"\"Display information about a t-shirt.\"\"\"\n",
    "    print(\"\\nThe shirt I am ordering is a \" + shirt_size + \".\")\n",
    "    print(\"The shirt will say \" + shirt_text + \".\")\n",
    "    \n",
    "make_shirt()"
   ]
  },
  {
   "cell_type": "code",
   "execution_count": 22,
   "metadata": {},
   "outputs": [
    {
     "name": "stdout",
     "output_type": "stream",
     "text": [
      "London is in England.\n",
      "Brighton is in England.\n",
      "Dublin is in England.\n"
     ]
    }
   ],
   "source": [
    "def describe_city(city_name, country_name='England'):\n",
    "    \"\"\"Display information about the city and country.\"\"\"\n",
    "    print(city_name + \" is in \" + country_name + \".\")\n",
    "    \n",
    "describe_city('London')\n",
    "describe_city('Brighton')\n",
    "describe_city('Dublin')"
   ]
  },
  {
   "cell_type": "code",
   "execution_count": 23,
   "metadata": {},
   "outputs": [
    {
     "name": "stdout",
     "output_type": "stream",
     "text": [
      "{'first': 'jimi', 'last': 'hendrix'}\n"
     ]
    }
   ],
   "source": [
    "def build_person(first_name, last_name):\n",
    "    \"\"\"Return a dictionary of information about a person.\"\"\"\n",
    "    person = {'first': first_name, 'last': last_name}\n",
    "    return person\n",
    "\n",
    "musician = build_person('jimi', 'hendrix')\n",
    "print(musician)"
   ]
  },
  {
   "cell_type": "code",
   "execution_count": 1,
   "metadata": {},
   "outputs": [
    {
     "name": "stdout",
     "output_type": "stream",
     "text": [
      "\n",
      "Please tell me your name: \n",
      "(enter 'q' at any time to quit:)\n",
      "First name: Elizabeth\n",
      "Last name: Crooks\n",
      "\n",
      "Hello, Elizabeth Crooks!\n",
      "\n",
      "Please tell me your name: \n",
      "(enter 'q' at any time to quit:)\n",
      "First name: q\n"
     ]
    }
   ],
   "source": [
    "def get_formatted_name(first_name, last_name):\n",
    "    \"\"\"Return a full name, neatly formatted.\"\"\"\n",
    "    full_name = first_name + ' ' + last_name\n",
    "    return full_name.title()\n",
    "\n",
    "#This is an infinite loop!\n",
    "while True:\n",
    "    print(\"\\nPlease tell me your name: \")\n",
    "    print(\"(enter 'q' at any time to quit:)\")\n",
    "    \n",
    "    f_name = input(\"First name: \")\n",
    "    if f_name == 'q':\n",
    "        break\n",
    "        \n",
    "    l_name = input(\"Last name: \")\n",
    "    if l_name == 'q':\n",
    "        break\n",
    "    \n",
    "    formatted_name = get_formatted_name(f_name, l_name)\n",
    "    print(\"\\nHello, \" + formatted_name + \"!\")"
   ]
  },
  {
   "cell_type": "code",
   "execution_count": 4,
   "metadata": {},
   "outputs": [
    {
     "name": "stdout",
     "output_type": "stream",
     "text": [
      "\n",
      "Please enter a city: \n",
      "(enter 'q' at any time to quit:)\n",
      "City: London\n",
      "Country: England\n",
      "\"London, England\"\n",
      "\n",
      "Please enter a city: \n",
      "(enter 'q' at any time to quit:)\n",
      "City: q\n"
     ]
    }
   ],
   "source": [
    "def city_country(city_name, country_name):\n",
    "    \"\"\"Return a city and country name.\"\"\"\n",
    "    location = city_name + \", \" + country_name\n",
    "    return location.title()\n",
    "\n",
    "while True:\n",
    "    print(\"\\nPlease enter a city: \")\n",
    "    print(\"(enter 'q' at any time to quit:)\")\n",
    "    \n",
    "    city = input(\"City: \")\n",
    "    if city == 'q':\n",
    "        break\n",
    "        \n",
    "    country = input(\"Country: \")\n",
    "    if country == 'q':\n",
    "        break\n",
    "        \n",
    "    destination = city_country(city, country)\n",
    "    print('\"' + city + \", \" + country + '\"')"
   ]
  },
  {
   "cell_type": "code",
   "execution_count": 25,
   "metadata": {},
   "outputs": [
    {
     "name": "stdout",
     "output_type": "stream",
     "text": [
      "(enter 'q' at any time to quit)\n",
      "Who's the artist? The Beatles\n",
      "\n",
      "What album are you thinking of? Yellow Submarine\n",
      "{'artist': 'The Beatles', 'title': 'Yellow Submarine'}\n",
      "Who's the artist? q\n",
      "\n",
      "What album are you thinking of? quir\n",
      "{'artist': 'Q', 'title': 'Quir'}\n",
      "Who's the artist? quit\n",
      "\n",
      "What album are you thinking of? quit\n",
      "{'artist': 'Quit', 'title': 'Quit'}\n",
      "Who's the artist? q\n",
      "\n",
      "What album are you thinking of? q\n"
     ]
    }
   ],
   "source": [
    "def make_album(artist, title, tracks=''):\n",
    "    \"\"\"Return a dictionary of information about an album.\"\"\"\n",
    "    album_dict = {'artist': artist.title(), 'title': title.title()}\n",
    "    if tracks:\n",
    "        album_dict['tracks'] = tracks\n",
    "    return album_dict\n",
    "\n",
    "title_prompt = \"\\nWhat album are you thinking of? \"\n",
    "artist_prompt = \"Who's the artist? \"\n",
    "print(\"(enter 'q' at any time to quit)\")\n",
    "\n",
    "while True:\n",
    "    \n",
    "    vocalist = input(artist_prompt)\n",
    "    if artist == 'q':\n",
    "        break\n",
    "        \n",
    "    record = input(title_prompt)\n",
    "    if record == 'q':\n",
    "        break\n",
    "\n",
    "    album = make_album(vocalist, record)\n",
    "    print(album)\n",
    "    "
   ]
  },
  {
   "cell_type": "code",
   "execution_count": 27,
   "metadata": {},
   "outputs": [
    {
     "name": "stdout",
     "output_type": "stream",
     "text": [
      "Printing model: dodecahedron\n",
      "Printing model: robot pendant\n",
      "Printing model: iphone case\n",
      "\n",
      "The following models have been printed:\n",
      "dodecahedron\n",
      "robot pendant\n",
      "iphone case\n"
     ]
    }
   ],
   "source": [
    "def print_models(unprinted_designs, completed_models):\n",
    "    \"\"\"\n",
    "    Simulate printing each design, until none are left.\n",
    "    Move each design to completed_models after printing.\n",
    "    \"\"\"\n",
    "    while unprinted_designs:\n",
    "        current_design = unprinted_designs.pop()\n",
    "        \n",
    "        #Simulate creating a 3D print from the design.\n",
    "        print(\"Printing model: \" + current_design)\n",
    "        completed_models.append(current_design)\n",
    "        \n",
    "def show_completed_models(completed_models):\n",
    "    \"\"\"Show all the models that were printed.\"\"\"\n",
    "    print(\"\\nThe following models have been printed:\")\n",
    "    for completed_model in completed_models:\n",
    "        print(completed_model)\n",
    "\n",
    "unprinted_designs = ['iphone case', 'robot pendant', 'dodecahedron']\n",
    "completed_models = []\n",
    "\n",
    "print_models(unprinted_designs, completed_models)\n",
    "show_completed_models(completed_models)"
   ]
  },
  {
   "cell_type": "code",
   "execution_count": 30,
   "metadata": {},
   "outputs": [
    {
     "name": "stdout",
     "output_type": "stream",
     "text": [
      "Houdini\n",
      "David Copperfield\n",
      "Penn Jillette\n"
     ]
    }
   ],
   "source": [
    "def show_magicians(names):\n",
    "    \"\"\"Print the names of famous magicians in the list.\"\"\"\n",
    "    for name in names:\n",
    "        message = name.title()\n",
    "        print(message)\n",
    "        \n",
    "magicians = ['houdini', 'david copperfield', 'penn jillette']\n",
    "show_magicians(magicians)"
   ]
  },
  {
   "cell_type": "code",
   "execution_count": 32,
   "metadata": {},
   "outputs": [
    {
     "name": "stdout",
     "output_type": "stream",
     "text": [
      "Houdini the Great\n",
      "David Copperfield the Great\n",
      "Penn Jillette the Great\n"
     ]
    }
   ],
   "source": [
    "def show_magicians(names):\n",
    "    \"\"\"Print the names of famous magicians in the list.\"\"\"\n",
    "    for name in names:\n",
    "        message = name.title() + \" the Great\"\n",
    "        print(message)\n",
    "        \n",
    "magicians = ['houdini', 'david copperfield', 'penn jillette']\n",
    "show_magicians(magicians)"
   ]
  },
  {
   "cell_type": "code",
   "execution_count": 35,
   "metadata": {},
   "outputs": [
    {
     "name": "stdout",
     "output_type": "stream",
     "text": [
      "Houdini\n",
      "David Copperfield\n",
      "Penn Jillette\n",
      "\n",
      "Great magicians:\n",
      "Penn Jillette the Great\n",
      "David Copperfield the Great\n",
      "Houdini the Great\n",
      "\n",
      "Original magicians:\n",
      "Houdini\n",
      "David Copperfield\n",
      "Penn Jillette\n"
     ]
    }
   ],
   "source": [
    "def show_magicians(magicians):\n",
    "    \"\"\"Print the name of each magician in the list.\"\"\"\n",
    "    for magician in magicians:\n",
    "        print(magician)\n",
    "\n",
    "def make_great(magicians):\n",
    "    \"\"\"Add 'the Great!' to each magician's name.\"\"\"\n",
    "    great_magicians = []\n",
    "\n",
    "    while magicians:\n",
    "        magician = magicians.pop()\n",
    "        great_magician = magician + ' the Great'\n",
    "        great_magicians.append(great_magician)\n",
    "\n",
    "    for great_magician in great_magicians:\n",
    "        magicians.append(great_magician)\n",
    "\n",
    "    return magicians\n",
    "\n",
    "magicians = ['Houdini', 'David Copperfield', 'Penn Jillette']\n",
    "show_magicians(magicians)\n",
    "\n",
    "print(\"\\nGreat magicians:\")\n",
    "great_magicians = make_great(magicians[:])\n",
    "show_magicians(great_magicians)\n",
    "\n",
    "print(\"\\nOriginal magicians:\")\n",
    "show_magicians(magicians)"
   ]
  },
  {
   "cell_type": "code",
   "execution_count": 43,
   "metadata": {},
   "outputs": [
    {
     "name": "stdout",
     "output_type": "stream",
     "text": [
      "\n",
      "Here's the list of what you want on your sandwich:\n",
      "- bacon\n",
      "- lettuce\n",
      "- tomato\n",
      "\n",
      "Here's the list of what you want on your sandwich:\n",
      "- tuna\n",
      "\n",
      "Here's the list of what you want on your sandwich:\n",
      "- cheese whiz\n",
      "- grilled onions\n",
      "- steak\n",
      "- mushrooms\n"
     ]
    }
   ],
   "source": [
    "def make_sandwich(*ingredients):\n",
    "    \"\"\"Print the list of toppings for each sandwich.\"\"\"\n",
    "    print(\"\\nHere's the list of what you want on your sandwich:\")\n",
    "    for ingredient in ingredients:\n",
    "        print(\"- \" + ingredient)\n",
    "    \n",
    "make_sandwich('bacon', 'lettuce', 'tomato')\n",
    "make_sandwich('tuna')\n",
    "make_sandwich('cheese whiz', 'grilled onions', 'steak', 'mushrooms')"
   ]
  },
  {
   "cell_type": "code",
   "execution_count": 45,
   "metadata": {},
   "outputs": [
    {
     "name": "stdout",
     "output_type": "stream",
     "text": [
      "{'first_name': 'elizabeth', 'last_name': 'crooks', 'location': 'seattle', 'field': 'data privacy', 'hometown': 'aurora'}\n"
     ]
    }
   ],
   "source": [
    "def build_profile(first, last, **user_info):\n",
    "    \"\"\"Build a dictionary containing everything we know about a user.\"\"\"\n",
    "    profile = {}\n",
    "    profile['first_name'] = first\n",
    "    profile['last_name'] = last\n",
    "    for key, value in user_info.items():\n",
    "        profile[key] = value\n",
    "    return profile\n",
    "\n",
    "user_profile = build_profile('elizabeth', 'crooks', location='seattle', field='data privacy', hometown='aurora')\n",
    "print(user_profile)"
   ]
  },
  {
   "cell_type": "code",
   "execution_count": 46,
   "metadata": {},
   "outputs": [
    {
     "name": "stdout",
     "output_type": "stream",
     "text": [
      "{'manufacturer_name': 'jeep', 'car_model': 'cherokee', 'feature': 'seat warmers', 'type': 'manual'}\n"
     ]
    }
   ],
   "source": [
    "def make_car(manufacturer, model, **optional_info):\n",
    "    \"\"\"Build a dictionary about car information.\"\"\"\n",
    "    cars = {}\n",
    "    cars['manufacturer_name'] = manufacturer\n",
    "    cars['car_model'] = model\n",
    "    for key, value in optional_info.items():\n",
    "        cars[key] = value\n",
    "    return cars\n",
    "\n",
    "car_info = make_car('jeep', 'cherokee', feature='seat warmers', type='manual')\n",
    "print(car_info)"
   ]
  },
  {
   "cell_type": "code",
   "execution_count": null,
   "metadata": {},
   "outputs": [],
   "source": []
  }
 ],
 "metadata": {
  "kernelspec": {
   "display_name": "Python 3",
   "language": "python",
   "name": "python3"
  },
  "language_info": {
   "codemirror_mode": {
    "name": "ipython",
    "version": 3
   },
   "file_extension": ".py",
   "mimetype": "text/x-python",
   "name": "python",
   "nbconvert_exporter": "python",
   "pygments_lexer": "ipython3",
   "version": "3.7.0"
  }
 },
 "nbformat": 4,
 "nbformat_minor": 2
}
