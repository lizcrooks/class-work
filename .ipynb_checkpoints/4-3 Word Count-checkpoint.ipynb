{
 "cells": [
  {
   "cell_type": "markdown",
   "metadata": {},
   "source": [
    "# Code to Open and Read a Text File\n",
    "Then count the words and print the count\n",
    "\n",
    "The following are some text copies of famous documents in the Data folder.\n",
    "\n",
    "* 95Theses.txt – Germany English translation of Martin Luther's “Disputation on the Power and Efficacy of Indulgences,” also known as “The 95 Theses,”\n",
    "* DoI.txt – US Declaration of Independence\n",
    "* BoR.txt – US Original Bill of Rights\n",
    "* BoR-Full.txt – US Bill of Rights with all Amendments\n",
    "* Constitution.txt – US Constitution\n",
    "* Gettysburg.txt – US President Lincoln's Gettysburg Address\n",
    "* MagnaCarta.txt – England 1215 (English translation)\n",
    "* Margaritaville.txt – Lyrics by Jimmy Buffett\n",
    "* UDHR.txt – UN The Universal Declaration of Human Rights\n",
    "* Romeo and Juliet.txt - Act 2, Scene II. Capulet's orchard.\n",
    "\n",
    "You can use any of them in place of **Romeo and Juliet.txt**. Note the names are case sensitive."
   ]
  },
  {
   "cell_type": "code",
   "execution_count": 3,
   "metadata": {},
   "outputs": [
    {
     "name": "stdout",
     "output_type": "stream",
     "text": [
      "Total words:  213\n"
     ]
    }
   ],
   "source": [
    "fname = 'Margaritaville.txt'   # define file to open. Case sensitive. File in our data folder.\n",
    "fhand = open(fname)                   # fhand is a handle or open connection to the file\n",
    "wcount = 0                            # create a variable to count the words\n",
    "for line in fhand:                    # for each line in the open file\n",
    "    words = line.split()              # creates a list (words) of the line broken up into seperate words\n",
    "    for word in words:                # for each word in the list words\n",
    "        wcount = wcount + 1           # increase the word count by one\n",
    "print(\"Total words: \", wcount)"
   ]
  },
  {
   "cell_type": "markdown",
   "metadata": {},
   "source": [
    "### Add two temporary print() commands just to see what is in the variables line and words"
   ]
  },
  {
   "cell_type": "code",
   "execution_count": 4,
   "metadata": {},
   "outputs": [
    {
     "name": "stdout",
     "output_type": "stream",
     "text": [
      "\"Margaritaville\"\n",
      "\n",
      "['\"Margaritaville\"']\n",
      "by Jimmy Buffett\n",
      "\n",
      "['by', 'Jimmy', 'Buffett']\n",
      "\n",
      "\n",
      "[]\n",
      "Nibblin' on sponge cake,\n",
      "\n",
      "[\"Nibblin'\", 'on', 'sponge', 'cake,']\n",
      "Watchin' the sun bake;\n",
      "\n",
      "[\"Watchin'\", 'the', 'sun', 'bake;']\n",
      "All of those tourists covered with oil.\n",
      "\n",
      "['All', 'of', 'those', 'tourists', 'covered', 'with', 'oil.']\n",
      "Strummin' my six string on my front porch swing.\n",
      "\n",
      "[\"Strummin'\", 'my', 'six', 'string', 'on', 'my', 'front', 'porch', 'swing.']\n",
      "Smell those shrimp-\n",
      "\n",
      "['Smell', 'those', 'shrimp-']\n",
      "They're beginnin' to boil.\n",
      "\n",
      "[\"They're\", \"beginnin'\", 'to', 'boil.']\n",
      "\n",
      "\n",
      "[]\n",
      "Wasted away again in Margaritaville,\n",
      "\n",
      "['Wasted', 'away', 'again', 'in', 'Margaritaville,']\n",
      "Searchin' for my lost shaker of salt.\n",
      "\n",
      "[\"Searchin'\", 'for', 'my', 'lost', 'shaker', 'of', 'salt.']\n",
      "Some people claim that there's a woman to blame,\n",
      "\n",
      "['Some', 'people', 'claim', 'that', \"there's\", 'a', 'woman', 'to', 'blame,']\n",
      "But I know it's nobody's fault.\n",
      "\n",
      "['But', 'I', 'know', \"it's\", \"nobody's\", 'fault.']\n",
      "\n",
      "\n",
      "[]\n",
      "Don't know the reason,\n",
      "\n",
      "[\"Don't\", 'know', 'the', 'reason,']\n",
      "Stayed here all season\n",
      "\n",
      "['Stayed', 'here', 'all', 'season']\n",
      "With nothing to show but this brand new tattoo.\n",
      "\n",
      "['With', 'nothing', 'to', 'show', 'but', 'this', 'brand', 'new', 'tattoo.']\n",
      "But it's a real beauty,\n",
      "\n",
      "['But', \"it's\", 'a', 'real', 'beauty,']\n",
      "A Mexican cutie, how it got here\n",
      "\n",
      "['A', 'Mexican', 'cutie,', 'how', 'it', 'got', 'here']\n",
      "I haven't a clue.\n",
      "\n",
      "['I', \"haven't\", 'a', 'clue.']\n",
      "\n",
      "\n",
      "[]\n",
      "Wasted away again in Margaritaville,\n",
      "\n",
      "['Wasted', 'away', 'again', 'in', 'Margaritaville,']\n",
      "Searchin' for my lost shaker of salt.\n",
      "\n",
      "[\"Searchin'\", 'for', 'my', 'lost', 'shaker', 'of', 'salt.']\n",
      "Some people claim that there's a woman to blame,\n",
      "\n",
      "['Some', 'people', 'claim', 'that', \"there's\", 'a', 'woman', 'to', 'blame,']\n",
      "Now I think, - hell it could be my fault.\n",
      "\n",
      "['Now', 'I', 'think,', '-', 'hell', 'it', 'could', 'be', 'my', 'fault.']\n",
      "\n",
      "\n",
      "[]\n",
      "I blew out my flip flop,\n",
      "\n",
      "['I', 'blew', 'out', 'my', 'flip', 'flop,']\n",
      "Stepped on a pop top;\n",
      "\n",
      "['Stepped', 'on', 'a', 'pop', 'top;']\n",
      "Cut my heel, had to cruise on back home.\n",
      "\n",
      "['Cut', 'my', 'heel,', 'had', 'to', 'cruise', 'on', 'back', 'home.']\n",
      "But there's booze in the blender,\n",
      "\n",
      "['But', \"there's\", 'booze', 'in', 'the', 'blender,']\n",
      "And soon it will render\n",
      "\n",
      "['And', 'soon', 'it', 'will', 'render']\n",
      "That frozen concoction that helps me hang on.\n",
      "\n",
      "['That', 'frozen', 'concoction', 'that', 'helps', 'me', 'hang', 'on.']\n",
      "\n",
      "\n",
      "[]\n",
      "Wasted away again in Margaritaville\n",
      "\n",
      "['Wasted', 'away', 'again', 'in', 'Margaritaville']\n",
      "Searchin' for my lost shaker of salt.\n",
      "\n",
      "[\"Searchin'\", 'for', 'my', 'lost', 'shaker', 'of', 'salt.']\n",
      "Some people claim that there's a woman to blame,\n",
      "\n",
      "['Some', 'people', 'claim', 'that', \"there's\", 'a', 'woman', 'to', 'blame,']\n",
      "But I know, it's my own damn fault.\n",
      "\n",
      "['But', 'I', 'know,', \"it's\", 'my', 'own', 'damn', 'fault.']\n",
      "Yes, and some people claim that there's a woman to blame, And I know it's my own damn fault\n",
      "['Yes,', 'and', 'some', 'people', 'claim', 'that', \"there's\", 'a', 'woman', 'to', 'blame,', 'And', 'I', 'know', \"it's\", 'my', 'own', 'damn', 'fault']\n",
      "Total words:  213\n"
     ]
    }
   ],
   "source": [
    "fname = 'Margaritaville.txt'\n",
    "fhand = open(fname)\n",
    "wcount = 0\n",
    "for line in fhand:\n",
    "    print(line)                       # print line to see what is in it\n",
    "    words = line.split()\n",
    "    print(words)                      # ptint words to see what is in it\n",
    "    for word in words: \n",
    "        wcount = wcount + 1\n",
    "print(\"Total words: \", wcount)"
   ]
  },
  {
   "cell_type": "markdown",
   "metadata": {},
   "source": [
    "### Remove test print()s and create a dictionary to track unique words\n",
    "New words will be added as keys and their count will be the associated value"
   ]
  },
  {
   "cell_type": "code",
   "execution_count": 5,
   "metadata": {},
   "outputs": [
    {
     "name": "stdout",
     "output_type": "stream",
     "text": [
      "Total words:  213\n",
      "{'\"Margaritaville\"': 1, 'by': 1, 'Jimmy': 1, 'Buffett': 1, \"Nibblin'\": 1, 'on': 4, 'sponge': 1, 'cake,': 1, \"Watchin'\": 1, 'the': 3, 'sun': 1, 'bake;': 1, 'All': 1, 'of': 4, 'those': 2, 'tourists': 1, 'covered': 1, 'with': 1, 'oil.': 1, \"Strummin'\": 1, 'my': 10, 'six': 1, 'string': 1, 'front': 1, 'porch': 1, 'swing.': 1, 'Smell': 1, 'shrimp-': 1, \"They're\": 1, \"beginnin'\": 1, 'to': 7, 'boil.': 1, 'Wasted': 3, 'away': 3, 'again': 3, 'in': 4, 'Margaritaville,': 2, \"Searchin'\": 3, 'for': 3, 'lost': 3, 'shaker': 3, 'salt.': 3, 'Some': 3, 'people': 4, 'claim': 4, 'that': 5, \"there's\": 5, 'a': 7, 'woman': 4, 'blame,': 4, 'But': 4, 'I': 6, 'know': 3, \"it's\": 4, \"nobody's\": 1, 'fault.': 3, \"Don't\": 1, 'reason,': 1, 'Stayed': 1, 'here': 2, 'all': 1, 'season': 1, 'With': 1, 'nothing': 1, 'show': 1, 'but': 1, 'this': 1, 'brand': 1, 'new': 1, 'tattoo.': 1, 'real': 1, 'beauty,': 1, 'A': 1, 'Mexican': 1, 'cutie,': 1, 'how': 1, 'it': 3, 'got': 1, \"haven't\": 1, 'clue.': 1, 'Now': 1, 'think,': 1, '-': 1, 'hell': 1, 'could': 1, 'be': 1, 'blew': 1, 'out': 1, 'flip': 1, 'flop,': 1, 'Stepped': 1, 'pop': 1, 'top;': 1, 'Cut': 1, 'heel,': 1, 'had': 1, 'cruise': 1, 'back': 1, 'home.': 1, 'booze': 1, 'blender,': 1, 'And': 2, 'soon': 1, 'will': 1, 'render': 1, 'That': 1, 'frozen': 1, 'concoction': 1, 'helps': 1, 'me': 1, 'hang': 1, 'on.': 1, 'Margaritaville': 1, 'know,': 1, 'own': 2, 'damn': 2, 'Yes,': 1, 'and': 1, 'some': 1, 'fault': 1}\n"
     ]
    }
   ],
   "source": [
    "fname = 'Margaritaville.txt'\n",
    "fhand = open(fname)\n",
    "counts = dict()                       # creates and empty dictionary\n",
    "wcount = 0\n",
    "for line in fhand:\n",
    "    words = line.split()\n",
    "    for word in words:\n",
    "        wcount = wcount + 1\n",
    "        if word not in counts:        # if the word isn't already in the dictionary counts\n",
    "            counts[word] = 1          # add the word as a key and one as the value\n",
    "        else:\n",
    "            counts[word] += 1         # otherwise find the key word and increase its value by one\n",
    "print(\"Total words: \", wcount)\n",
    "print(counts)                         # print the dictionary counts"
   ]
  },
  {
   "cell_type": "markdown",
   "metadata": {},
   "source": [
    "### Sort the dictionary by value an print only the x heaviest used\n",
    "Often we only want to see the most often used word or five most often used"
   ]
  },
  {
   "cell_type": "code",
   "execution_count": null,
   "metadata": {
    "collapsed": true
   },
   "outputs": [],
   "source": [
    "fname = 'Margaritaville.txt'\n",
    "fhand = open(fname)\n",
    "counts = dict()\n",
    "wcount = 0\n",
    "for line in fhand:\n",
    "    words = line.split()\n",
    "    for word in words:\n",
    "        wcount = wcount + 1\n",
    "        if word not in counts:\n",
    "            counts[word] = 1\n",
    "        else:\n",
    "            counts[word] += 1\n",
    "# Sort the dictionary by value\n",
    "lst = list()\n",
    "for key, val in counts.items():\n",
    "    lst.append( (val, key) )\n",
    "lst.sort(reverse=True)\n",
    "\n",
    "for key, val in lst[:10] :   # set the number of words to print - print up to 10th most used. [:] to see all\n",
    "    print(key, val)\n",
    "print(\"Total words: \", wcount)"
   ]
  },
  {
   "cell_type": "code",
   "execution_count": null,
   "metadata": {
    "collapsed": true
   },
   "outputs": [],
   "source": [
    "fname = 'data\\Romeo and Juliet.txt'\n",
    "fhand = open(fname)\n",
    "counts = dict()\n",
    "wcount = 0\n",
    "for line in fhand:\n",
    "    words = line.split()\n",
    "    for word in words:\n",
    "        wcount = wcount + 1\n",
    "        if word not in counts:\n",
    "            counts[word] = 1\n",
    "        else:\n",
    "            counts[word] += 1\n",
    "# Sort the dictionary by value\n",
    "lst = list()\n",
    "for key, val in counts.items():\n",
    "    lst.append( (val, key) )\n",
    "lst.sort(reverse=True)\n",
    "\n",
    "for key, val in lst[:10] :   # set the number of words to print - print up to 10th most used. [:] to see all\n",
    "    print(key, val)\n",
    "print(\"Total words: \", wcount)"
   ]
  },
  {
   "cell_type": "markdown",
   "metadata": {},
   "source": [
    "### Add an input() for the file name and then error trap for a bad file name\n",
    "Remember to include the path and that file names are case sensitive\n",
    "Do not put quotes around your entry - input() expects text. It would be **data\\Romeo and Juliet.txt**\n",
    "\n",
    "The other text copies of famous documents in the Data folder are:\n",
    "\n",
    "* 95Theses.txt – Germany English translation of Martin Luther's “Disputation on the Power and Efficacy of Indulgences,” also known as “The 95 Theses,”\n",
    "* DoI.txt – US Declaration of Independence\n",
    "* BoR.txt – US Original Bill of Rights\n",
    "* BoR-Full.txt – US Bill of Rights with all Amendments\n",
    "* Constitution.txt – US Constitution\n",
    "* Gettysburg.txt – US President Lincoln's Gettysburg Address\n",
    "* MagnaCarta.txt – England 1215 (English translation)\n",
    "* Margaritaville.txt – Lyrics by Jimmy Buffett\n",
    "* UDHR.txt – UN The Universal Declaration of Human Rights\n",
    "* Romeo and Juliet.txt - Act 2, Scene II. Capulet's orchard.\n"
   ]
  },
  {
   "cell_type": "code",
   "execution_count": null,
   "metadata": {
    "collapsed": true
   },
   "outputs": [],
   "source": [
    "fname = input('Enter the file name: ')\n",
    "try:                                          # Error trap for bad file name\n",
    "    fhand = open(fname)\n",
    "except:\n",
    "    print('File cannot be opened:', fname)    # What to do if file can't be found\n",
    "    exit()\n",
    "counts = dict()\n",
    "wcount = 0\n",
    "for line in fhand:\n",
    "    words = line.split()\n",
    "    for word in words:\n",
    "        wcount = wcount + 1\n",
    "        if word not in counts:\n",
    "            counts[word] = 1\n",
    "        else:\n",
    "            counts[word] += 1\n",
    "# Sort the dictionary by value\n",
    "lst = list()\n",
    "for key, val in counts.items():\n",
    "    lst.append( (val, key) )\n",
    "lst.sort(reverse=True)\n",
    "\n",
    "for key, val in lst[:10] :   # set the number of words to print - print up to 10th most used. [:] to see all\n",
    "    print(key, val)\n",
    "print(\"Total words: \", wcount)"
   ]
  },
  {
   "cell_type": "code",
   "execution_count": null,
   "metadata": {
    "collapsed": true
   },
   "outputs": [],
   "source": []
  }
 ],
 "metadata": {
  "kernelspec": {
   "display_name": "Python 3",
   "language": "python",
   "name": "python3"
  },
  "language_info": {
   "codemirror_mode": {
    "name": "ipython",
    "version": 3
   },
   "file_extension": ".py",
   "mimetype": "text/x-python",
   "name": "python",
   "nbconvert_exporter": "python",
   "pygments_lexer": "ipython3",
   "version": "3.7.0"
  }
 },
 "nbformat": 4,
 "nbformat_minor": 2
}
